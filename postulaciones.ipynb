{
 "cells": [
  {
   "cell_type": "code",
   "execution_count": 3,
   "metadata": {},
   "outputs": [],
   "source": [
    "import pandas as pd\n",
    "import matplotlib.pyplot as plt\n",
    "%matplotlib inline"
   ]
  },
  {
   "cell_type": "code",
   "execution_count": null,
   "metadata": {},
   "outputs": [],
   "source": [
    "# Asegurate que tienes la versión 1.3.5 de pandas, sino instala esa versión\n",
    "pd.__version__"
   ]
  },
  {
   "cell_type": "code",
   "execution_count": 11,
   "metadata": {},
   "outputs": [],
   "source": [
    "# Descargate el repositorio de github en Colab \n",
    "def is_running_in_colab():\n",
    "    try:\n",
    "        import google.colab\n",
    "        return True\n",
    "    except:\n",
    "        return False\n",
    "if is_running_in_colab():\n",
    "    !rm -rf investigacion_senescyt\n",
    "    !git clone https://github.com/mayait/investigacion_senescyt.git\n",
    "    !mv /content/investigacion_senescyt/pickles_partes ."
   ]
  },
  {
   "cell_type": "code",
   "execution_count": 1,
   "metadata": {},
   "outputs": [],
   "source": [
    "# Funcion que une los archivos pickle en un solo dataframe\n",
    "def unir_pickle(nombre, n):\n",
    "    lista_dataframes = []\n",
    "    for i in range(n):\n",
    "        df = pd.read_pickle(nombre + str(i) + '.pkl')\n",
    "        lista_dataframes.append(df)\n",
    "    df_unido = pd.concat(lista_dataframes, ignore_index=True)\n",
    "    return df_unido"
   ]
  },
  {
   "cell_type": "code",
   "execution_count": 4,
   "metadata": {},
   "outputs": [],
   "source": [
    "# Importa postrulaciones desde los pickles\n",
    "postulaciones = unir_pickle('pickles_partes/postulaciones_',36)"
   ]
  },
  {
   "cell_type": "code",
   "execution_count": 5,
   "metadata": {},
   "outputs": [],
   "source": [
    "# ELIMINAR CAE estado tiene todo en 1 o activado\n",
    "postulaciones.drop(['CAE_ESTADO'], axis=1, inplace=True)"
   ]
  },
  {
   "cell_type": "markdown",
   "metadata": {},
   "source": [
    "Limpiar año postulación"
   ]
  },
  {
   "cell_type": "code",
   "execution_count": 6,
   "metadata": {},
   "outputs": [],
   "source": [
    "# Extrae los primeros 10 caracteres de la columna POS_FECHA_POSTULACION\n",
    "postulaciones['ANO_POSTULACION'] = postulaciones['POS_FECHA_POSTULACION'].str[:10]\n",
    "# Las fechas están en multiples formatos, extrae solo los ultimos 4 caracteres en ANO_POSTULACION\n",
    "postulaciones['ANO_POSTULACION'] = postulaciones['ANO_POSTULACION'].str[-4:]\n",
    "# Convierte la columna a tipo numérico\n",
    "postulaciones['ANO_POSTULACION'] = pd.to_numeric(postulaciones['ANO_POSTULACION'], errors='coerce')\n",
    "# Si POS_FECHA_POSTULACION es menor a 100 suma 2000, algunos valores de año están como 19 o 20\n",
    "postulaciones.loc[postulaciones['ANO_POSTULACION'] < 100, 'ANO_POSTULACION'] += 2000"
   ]
  },
  {
   "cell_type": "code",
   "execution_count": 7,
   "metadata": {},
   "outputs": [
    {
     "data": {
      "text/plain": [
       "2021.0    2924995\n",
       "2020.0    2338841\n",
       "2019.0    1015301\n",
       "Name: ANO_POSTULACION, dtype: int64"
      ]
     },
     "execution_count": 7,
     "metadata": {},
     "output_type": "execute_result"
    }
   ],
   "source": [
    "postulaciones.ANO_POSTULACION.value_counts()"
   ]
  },
  {
   "cell_type": "markdown",
   "metadata": {},
   "source": [
    "# Nota de postulación"
   ]
  },
  {
   "cell_type": "code",
   "execution_count": 8,
   "metadata": {},
   "outputs": [
    {
     "data": {
      "image/png": "[encoded data removed]",
      "text/plain": [
       "<Figure size 640x480 with 1 Axes>"
      ]
     },
     "metadata": {},
     "output_type": "display_data"
    }
   ],
   "source": [
    "# Grafiquemos la distribución de los datos CAE_NOTA_POSTULA en postulaciones\n",
    "postulaciones['CAE_NOTA_POSTULA'].plot.hist(bins=100)\n",
    "# Pon una linea en 700 con la etiqueta nota minima\n",
    "plt.axvline(700, color='red', label='Nota mínima')\n",
    "plt.legend()\n",
    "plt.show()"
   ]
  },
  {
   "cell_type": "code",
   "execution_count": null,
   "metadata": {},
   "outputs": [],
   "source": []
  }
 ],
 "metadata": {
  "kernelspec": {
   "display_name": "tensorflow",
   "language": "python",
   "name": "python3"
  },
  "language_info": {
   "codemirror_mode": {
    "name": "ipython",
    "version": 3
   },
   "file_extension": ".py",
   "mimetype": "text/x-python",
   "name": "python",
   "nbconvert_exporter": "python",
   "pygments_lexer": "ipython3",
   "version": "3.10.8"
  },
  "orig_nbformat": 4
 },
 "nbformat": 4,
 "nbformat_minor": 2
}
